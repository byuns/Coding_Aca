{
 "cells": [
  {
   "cell_type": "code",
   "execution_count": 24,
   "id": "04d877e9",
   "metadata": {},
   "outputs": [
    {
     "name": "stdout",
     "output_type": "stream",
     "text": [
      "['O', 'X', 'X', 'X', 'X', 'O', 'X', 'X', 'O', 'X', 'X', 'O', 'O', 'X', 'O'] 7\n"
     ]
    }
   ],
   "source": [
    "import random\n",
    "a = []\n",
    "b = [\"O\",\"X\"]\n",
    "score = 0\n",
    "s_score = 0\n",
    "for i in range(0,random.randint(1,20)):\n",
    "    a.append(random.choice(b))\n",
    "    \n",
    "for i in range(0,len(a)):\n",
    "    if a[i] == 'O':\n",
    "        score += 1\n",
    "        s_score += score\n",
    "    else:\n",
    "        score = 0\n",
    "\n",
    "print(a,s_score)"
   ]
  },
  {
   "cell_type": "code",
   "execution_count": 29,
   "id": "bc6e0791",
   "metadata": {},
   "outputs": [],
   "source": [
    "f = open(\"새 파일.txt\",'w',encoding= 'utf-8')\n",
    "f.write(\"안녕\")\n",
    "f.close()"
   ]
  },
  {
   "cell_type": "code",
   "execution_count": 32,
   "id": "55452ccb",
   "metadata": {},
   "outputs": [
    {
     "data": {
      "text/plain": [
       "'안녕'"
      ]
     },
     "execution_count": 32,
     "metadata": {},
     "output_type": "execute_result"
    }
   ],
   "source": [
    "f = open(\"새 파일.txt\",'r',encoding= 'utf-8')\n",
    "f.read()"
   ]
  },
  {
   "cell_type": "code",
   "execution_count": 26,
   "id": "aea77454",
   "metadata": {},
   "outputs": [
    {
     "name": "stdout",
     "output_type": "stream",
     "text": [
      "1 2 3 4 5\n",
      "\n",
      "1231231\n"
     ]
    }
   ],
   "source": [
    "f = open(\"test.txt\",'r')\n",
    "a = []\n",
    "for i in f.readlines():\n",
    "    print(i)"
   ]
  },
  {
   "cell_type": "code",
   "execution_count": 30,
   "id": "f97640e7",
   "metadata": {},
   "outputs": [
    {
     "data": {
      "text/plain": [
       "[[0, 0, 0, 0, 0, 0, 0, 0, 0, 0],\n",
       " [0, 0, 0, 0, 0, 0, 0, 0, 0, 0],\n",
       " [0, 0, 0, 0, 0, 0, 0, 0, 0, 0],\n",
       " [0, 0, 0, 0, 0, 0, 0, 0, 0, 0],\n",
       " [0, 0, 0, 0, 0, 0, 0, 0, 0, 0],\n",
       " [0, 0, 0, 0, 0, 0, 0, 0, 0, 0],\n",
       " [0, 0, 0, 0, 0, 0, 0, 0, 0, 0],\n",
       " [0, 0, 0, 0, 0, 0, 0, 0, 0, 0],\n",
       " [0, 0, 0, 0, 0, 0, 0, 0, 0, 0],\n",
       " [0, 0, 0, 0, 0, 0, 0, 0, 0, 0]]"
      ]
     },
     "execution_count": 30,
     "metadata": {},
     "output_type": "execute_result"
    }
   ],
   "source": [
    "arrary = [[0]*10 for i in range(10)]\n",
    "arrary"
   ]
  },
  {
   "cell_type": "code",
   "execution_count": null,
   "id": "874989df",
   "metadata": {},
   "outputs": [],
   "source": []
  }
 ],
 "metadata": {
  "kernelspec": {
   "display_name": "Python 3",
   "language": "python",
   "name": "python3"
  },
  "language_info": {
   "codemirror_mode": {
    "name": "ipython",
    "version": 3
   },
   "file_extension": ".py",
   "mimetype": "text/x-python",
   "name": "python",
   "nbconvert_exporter": "python",
   "pygments_lexer": "ipython3",
   "version": "3.8.8"
  }
 },
 "nbformat": 4,
 "nbformat_minor": 5
}
