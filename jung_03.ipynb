{
 "cells": [
  {
   "cell_type": "code",
   "execution_count": 1,
   "id": "9839a37e",
   "metadata": {},
   "outputs": [
    {
     "name": "stdout",
     "output_type": "stream",
     "text": [
      "n\n",
      "T\n",
      "name\n"
     ]
    }
   ],
   "source": [
    "a=\"my name is Tom\"\n",
    "print(a[3])\n",
    "print(a[-3])\n",
    "print(a[3:7])"
   ]
  },
  {
   "cell_type": "code",
   "execution_count": 2,
   "id": "6d336aac",
   "metadata": {},
   "outputs": [
    {
     "name": "stdout",
     "output_type": "stream",
     "text": [
      "14\n"
     ]
    }
   ],
   "source": [
    "print(len(a))"
   ]
  },
  {
   "cell_type": "code",
   "execution_count": 6,
   "id": "6ba6e67a",
   "metadata": {},
   "outputs": [
    {
     "name": "stdout",
     "output_type": "stream",
     "text": [
      "숫자를 입력하세요 :10\n",
      "0\n"
     ]
    }
   ],
   "source": [
    "a=int(input(\"숫자를 입력하세요 :\"))\n",
    "if a>1:\n",
    "    print(0)"
   ]
  },
  {
   "cell_type": "code",
   "execution_count": 9,
   "id": "5ab1fd83",
   "metadata": {},
   "outputs": [
    {
     "name": "stdout",
     "output_type": "stream",
     "text": [
      "키를 입력하세요 :130\n",
      "탈 수 있다.\n"
     ]
    }
   ],
   "source": [
    "a=int(input(\"키를 입력하세요 :\"))\n",
    "if a>=130:\n",
    "    print(\"탈 수 있다.\")\n",
    "if a<130:\n",
    "    print(\"탈 수 없다.\")"
   ]
  },
  {
   "cell_type": "code",
   "execution_count": 14,
   "id": "b3673f63",
   "metadata": {},
   "outputs": [
    {
     "name": "stdout",
     "output_type": "stream",
     "text": [
      "키를 입력하세요 :129\n",
      "탈 수 없다\n"
     ]
    }
   ],
   "source": [
    "a=int(input(\"키를 입력하세요 :\"))\n",
    "if a>=130 and a<190:\n",
    "    print(\"탈 수 있다\")\n",
    "else:\n",
    "    print(\"탈 수 없다\")"
   ]
  },
  {
   "cell_type": "code",
   "execution_count": 15,
   "id": "6d5398d8",
   "metadata": {},
   "outputs": [
    {
     "name": "stdout",
     "output_type": "stream",
     "text": [
      "3\n",
      "5\n",
      "15\n"
     ]
    }
   ],
   "source": [
    "a=int(input())\n",
    "b=int(input())\n",
    "c=a*b\n",
    "if c>10:\n",
    "    print(c)\n",
    "if c<10:\n",
    "    print(a,b)"
   ]
  },
  {
   "cell_type": "code",
   "execution_count": 16,
   "id": "fdd94797",
   "metadata": {
    "scrolled": true
   },
   "outputs": [
    {
     "name": "stdout",
     "output_type": "stream",
     "text": [
      "2\n",
      "3\n",
      "2 3\n"
     ]
    }
   ],
   "source": [
    "a=int(input())\n",
    "b=int(input())\n",
    "c=a*b\n",
    "if c>10:\n",
    "    print(c)\n",
    "else:\n",
    "    print(a,b)"
   ]
  },
  {
   "cell_type": "code",
   "execution_count": 21,
   "id": "e208e7fd",
   "metadata": {},
   "outputs": [
    {
     "name": "stdout",
     "output_type": "stream",
     "text": [
      "b\n",
      "a\n"
     ]
    }
   ],
   "source": [
    "a=input()\n",
    "if a ==\"a\":\n",
    "    print(\"a\")"
   ]
  },
  {
   "cell_type": "code",
   "execution_count": 22,
   "id": "ed5b0e27",
   "metadata": {},
   "outputs": [
    {
     "name": "stdout",
     "output_type": "stream",
     "text": [
      "여\n",
      "여자\n"
     ]
    }
   ],
   "source": [
    "a=input()\n",
    "if a==\"남\":\n",
    "    print(\"남자\")\n",
    "if a==\"여\":\n",
    "    print(\"여자\")"
   ]
  },
  {
   "cell_type": "code",
   "execution_count": 26,
   "id": "f850b088",
   "metadata": {},
   "outputs": [
    {
     "name": "stdout",
     "output_type": "stream",
     "text": [
      "aksndlsand\n",
      "틀렸습니도토리묵\n"
     ]
    }
   ],
   "source": [
    "a=input()\n",
    "if a==\"열려라 참께라면\":\n",
    "    print(\"문이 열립니다람쥐\")\n",
    "else:\n",
    "    print(\"틀렸습니도토리묵\")"
   ]
  },
  {
   "cell_type": "code",
   "execution_count": null,
   "id": "a416f52f",
   "metadata": {},
   "outputs": [],
   "source": []
  }
 ],
 "metadata": {
  "kernelspec": {
   "display_name": "Python 3 (ipykernel)",
   "language": "python",
   "name": "python3"
  },
  "language_info": {
   "codemirror_mode": {
    "name": "ipython",
    "version": 3
   },
   "file_extension": ".py",
   "mimetype": "text/x-python",
   "name": "python",
   "nbconvert_exporter": "python",
   "pygments_lexer": "ipython3",
   "version": "3.9.7"
  }
 },
 "nbformat": 4,
 "nbformat_minor": 5
}
