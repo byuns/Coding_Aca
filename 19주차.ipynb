{
 "cells": [
  {
   "cell_type": "code",
   "execution_count": 6,
   "id": "23e5f488",
   "metadata": {},
   "outputs": [],
   "source": [
    "import pygame\n",
    "\n",
    "pygame.init()\n",
    "\n",
    "size = [800,600]\n",
    "screen = pygame.display.set_mode(size)\n",
    "pygame.display.set_caption(\"도형그리기\")\n",
    "\n",
    "COLOR = (100,25,100)\n",
    "\n",
    "while True:\n",
    "    pygame.draw.rect(screen, COLOR,[400,300,100,200],2)\n",
    "    #(화면선언 변수, 색, [좌표x, 좌표y, 가로, 세로], 선 굵기)\n",
    "    pygame.draw.circle(screen, COLOR, [100,200],45,2)\n",
    "    #(화면선언 변수, 색, [좌표x, 좌표y], 반지름, 선 굵기)\n",
    "    pygame.draw.line(screen,COLOR,(0,0),(100,100),3)\n",
    "    #(화면선언 변수, 색, 시작좌표, 끝좌표, 선 굵기)\n",
    "    pygame.display.update()\n",
    "    \n",
    "    event = pygame.event.poll()\n",
    "    if event.type == pygame.QUIT:\n",
    "        break\n",
    "    \n",
    "pygame.quit()"
   ]
  },
  {
   "cell_type": "code",
   "execution_count": null,
   "id": "2c2bca48",
   "metadata": {},
   "outputs": [],
   "source": []
  }
 ],
 "metadata": {
  "kernelspec": {
   "display_name": "Python 3 (ipykernel)",
   "language": "python",
   "name": "python3"
  },
  "language_info": {
   "codemirror_mode": {
    "name": "ipython",
    "version": 3
   },
   "file_extension": ".py",
   "mimetype": "text/x-python",
   "name": "python",
   "nbconvert_exporter": "python",
   "pygments_lexer": "ipython3",
   "version": "3.9.7"
  }
 },
 "nbformat": 4,
 "nbformat_minor": 5
}
