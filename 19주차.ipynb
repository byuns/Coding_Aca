{
 "cells": [
  {
   "cell_type": "code",
   "execution_count": 6,
   "id": "23e5f488",
   "metadata": {},
   "outputs": [],
   "source": [
    "import pygame\n",
    "\n",
    "pygame.init()\n",
    "\n",
    "size = [800,600]\n",
    "screen = pygame.display.set_mode(size)\n",
    "pygame.display.set_caption(\"도형그리기\")\n",
    "\n",
    "COLOR = (100,25,100)\n",
    "\n",
    "while True:\n",
    "    pygame.draw.rect(screen, COLOR,[400,300,100,200],2)\n",
    "    #(화면선언 변수, 색, [좌표x, 좌표y, 가로, 세로], 선 굵기)\n",
    "    pygame.draw.circle(screen, COLOR, [100,200],45,2)\n",
    "    #(화면선언 변수, 색, [좌표x, 좌표y], 반지름, 선 굵기)\n",
    "    pygame.draw.line(screen,COLOR,(0,0),(100,100),3)\n",
    "    #(화면선언 변수, 색, 시작좌표, 끝좌표, 선 굵기)\n",
    "    pygame.display.update()\n",
    "    \n",
    "    event = pygame.event.poll()\n",
    "    if event.type == pygame.QUIT:\n",
    "        break\n",
    "    \n",
    "pygame.quit()"
   ]
  },
  {
   "cell_type": "code",
   "execution_count": 5,
   "id": "2c2bca48",
   "metadata": {},
   "outputs": [
    {
     "name": "stdout",
     "output_type": "stream",
     "text": [
      "['8X', 13, 42, '7X', 22, 34]\n"
     ]
    }
   ],
   "source": [
    "a = [80,13,42,70,22,34]\n",
    "\n",
    "for i in range(len(a)):\n",
    "    if a[i]%10 == 0:\n",
    "        a[i] = str(int(a[i]/10)) + \"X\"\n",
    "print(a)\n",
    "# st = \"string\"\n",
    "# st.replace('s','o')"
   ]
  },
  {
   "cell_type": "code",
   "execution_count": 9,
   "id": "0a14dce0",
   "metadata": {},
   "outputs": [
    {
     "name": "stdout",
     "output_type": "stream",
     "text": [
      "[1, 2, 3]\n",
      "[1, 2, 3]\n",
      "[1, 2, 3]\n",
      "[1, 2, 3]\n",
      "[1, 2, 3]\n",
      "[1, 2, 3]\n",
      "[1, 2, 3]\n",
      "[1, 2, 3]\n",
      "[1, 2, 3]\n"
     ]
    }
   ],
   "source": [
    "a = [1,2,3]\n",
    "a = str(a)\n",
    "for i in range(len(a)):\n",
    "    print(a)"
   ]
  },
  {
   "cell_type": "code",
   "execution_count": 32,
   "id": "442dfa48",
   "metadata": {},
   "outputs": [
    {
     "data": {
      "text/plain": [
       "'80887'"
      ]
     },
     "execution_count": 32,
     "metadata": {},
     "output_type": "execute_result"
    }
   ],
   "source": [
    "a = \"01051880887\"\n",
    "a[-5:]"
   ]
  },
  {
   "cell_type": "code",
   "execution_count": 54,
   "id": "709822c5",
   "metadata": {},
   "outputs": [
    {
     "data": {
      "text/plain": [
       "[0, 0, 0, 1]"
      ]
     },
     "execution_count": 54,
     "metadata": {},
     "output_type": "execute_result"
    }
   ],
   "source": [
    "a = 1000\n",
    "answer =list(map(int,list(str(a))))\n",
    "answer.reverse()\n",
    "answer"
   ]
  },
  {
   "cell_type": "code",
   "execution_count": null,
   "id": "e4d28242",
   "metadata": {},
   "outputs": [],
   "source": []
  }
 ],
 "metadata": {
  "kernelspec": {
   "display_name": "Python 3 (ipykernel)",
   "language": "python",
   "name": "python3"
  },
  "language_info": {
   "codemirror_mode": {
    "name": "ipython",
    "version": 3
   },
   "file_extension": ".py",
   "mimetype": "text/x-python",
   "name": "python",
   "nbconvert_exporter": "python",
   "pygments_lexer": "ipython3",
   "version": "3.9.7"
  }
 },
 "nbformat": 4,
 "nbformat_minor": 5
}
