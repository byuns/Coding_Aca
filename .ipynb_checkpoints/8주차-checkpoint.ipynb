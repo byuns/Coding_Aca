{
 "cells": [
  {
   "cell_type": "code",
   "execution_count": 1,
   "id": "1b443803",
   "metadata": {},
   "outputs": [
    {
     "data": {
      "text/plain": [
       "1"
      ]
     },
     "execution_count": 1,
     "metadata": {},
     "output_type": "execute_result"
    }
   ],
   "source": [
    "a = [1,2,3,4]\n",
    "min(a)"
   ]
  },
  {
   "cell_type": "code",
   "execution_count": 15,
   "id": "a8f4edf2",
   "metadata": {
    "scrolled": true
   },
   "outputs": [
    {
     "name": "stdout",
     "output_type": "stream",
     "text": [
      "[1, 0, 7, 19, 10] 0\n"
     ]
    }
   ],
   "source": [
    "a = []\n",
    "b = []\n",
    "min = 0\n",
    "import random\n",
    "\n",
    "for i in range(0,5):\n",
    "    tmp = random.randint(0,20)\n",
    "    a.append(tmp)\n",
    "min = a[0]\n",
    "for i in range(len(a)):\n",
    "    if min > a[i]:\n",
    "        min = a[i]\n",
    "print(a,min)"
   ]
  },
  {
   "cell_type": "code",
   "execution_count": 20,
   "id": "40ef467a",
   "metadata": {},
   "outputs": [],
   "source": [
    "f = open(\"test.txt\",\"w\")\n",
    "f.write('2')\n",
    "f.close()"
   ]
  },
  {
   "cell_type": "code",
   "execution_count": 22,
   "id": "e3bac37c",
   "metadata": {},
   "outputs": [
    {
     "data": {
      "text/plain": [
       "2"
      ]
     },
     "execution_count": 22,
     "metadata": {},
     "output_type": "execute_result"
    }
   ],
   "source": [
    "f = open(\"test.txt\",\"r\")\n",
    "a = f.read()\n",
    "int(a)"
   ]
  },
  {
   "cell_type": "code",
   "execution_count": null,
   "id": "4169b382",
   "metadata": {},
   "outputs": [],
   "source": []
  }
 ],
 "metadata": {
  "kernelspec": {
   "display_name": "Python 3",
   "language": "python",
   "name": "python3"
  },
  "language_info": {
   "codemirror_mode": {
    "name": "ipython",
    "version": 3
   },
   "file_extension": ".py",
   "mimetype": "text/x-python",
   "name": "python",
   "nbconvert_exporter": "python",
   "pygments_lexer": "ipython3",
   "version": "3.8.8"
  }
 },
 "nbformat": 4,
 "nbformat_minor": 5
}
