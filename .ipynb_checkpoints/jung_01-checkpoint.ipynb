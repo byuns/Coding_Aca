{
 "cells": [
  {
   "cell_type": "code",
   "execution_count": null,
   "id": "d0f3ce8c",
   "metadata": {},
   "outputs": [],
   "source": [
    "print(\"안녕하세요\")"
   ]
  },
  {
   "cell_type": "code",
   "execution_count": null,
   "id": "7d6eb941",
   "metadata": {},
   "outputs": [],
   "source": [
    "print(\"안녕하세요\")\n",
    "print(\"안녕하세요\")\n",
    "print(\"안녕하세요\")\n",
    "print(\"안녕하세요\")\n",
    "print(\"안녕하세요\")"
   ]
  },
  {
   "cell_type": "code",
   "execution_count": null,
   "id": "c94f5fd9",
   "metadata": {},
   "outputs": [],
   "source": [
    "a = 2\n",
    "print(a)"
   ]
  },
  {
   "cell_type": "code",
   "execution_count": null,
   "id": "f5841d31",
   "metadata": {},
   "outputs": [],
   "source": [
    "a = 2\n",
    "b = 3\n",
    "print(a+b)"
   ]
  },
  {
   "cell_type": "code",
   "execution_count": null,
   "id": "5f773e96",
   "metadata": {},
   "outputs": [],
   "source": [
    "print(a+b)\n",
    "print(a-b)\n",
    "print(a*b)\n",
    "print(a/b)\n",
    "print(a%b)"
   ]
  },
  {
   "cell_type": "code",
   "execution_count": null,
   "id": "a8fbf70d",
   "metadata": {},
   "outputs": [],
   "source": []
  },
  {
   "cell_type": "code",
   "execution_count": null,
   "id": "da153744",
   "metadata": {},
   "outputs": [],
   "source": []
  },
  {
   "cell_type": "code",
   "execution_count": null,
   "id": "34151951",
   "metadata": {},
   "outputs": [],
   "source": []
  },
  {
   "cell_type": "code",
   "execution_count": null,
   "id": "f26d1665",
   "metadata": {},
   "outputs": [],
   "source": []
  },
  {
   "cell_type": "code",
   "execution_count": null,
   "id": "b0cef87e",
   "metadata": {},
   "outputs": [],
   "source": []
  },
  {
   "cell_type": "code",
   "execution_count": null,
   "id": "6eb9d67a",
   "metadata": {},
   "outputs": [],
   "source": []
  },
  {
   "cell_type": "code",
   "execution_count": null,
   "id": "377309da",
   "metadata": {},
   "outputs": [],
   "source": []
  },
  {
   "cell_type": "code",
   "execution_count": null,
   "id": "30b1cab8",
   "metadata": {},
   "outputs": [],
   "source": [
    "print(\"안녕하세요\")"
   ]
  },
  {
   "cell_type": "code",
   "execution_count": null,
   "id": "e05069ba",
   "metadata": {},
   "outputs": [],
   "source": [
    "print(\"안녕하세요\")"
   ]
  },
  {
   "cell_type": "code",
   "execution_count": null,
   "id": "db3ffcc6",
   "metadata": {},
   "outputs": [],
   "source": [
    "print(\"아이폰\")"
   ]
  },
  {
   "cell_type": "code",
   "execution_count": null,
   "id": "207ae98a",
   "metadata": {},
   "outputs": [],
   "source": [
    "print(\"gosemvhs\")"
   ]
  },
  {
   "cell_type": "code",
   "execution_count": 12,
   "id": "7fa21d04",
   "metadata": {},
   "outputs": [
    {
     "name": "stdout",
     "output_type": "stream",
     "text": [
      "안녕하세요\n",
      "안녕하세요\n"
     ]
    }
   ],
   "source": [
    "print(\"안녕하세요\")\n",
    "print(\"안녕하세요\")"
   ]
  },
  {
   "cell_type": "code",
   "execution_count": 13,
   "id": "b0898829",
   "metadata": {},
   "outputs": [
    {
     "name": "stdout",
     "output_type": "stream",
     "text": [
      "3\n"
     ]
    }
   ],
   "source": [
    "a = 1\n",
    "b = 2\n",
    "c = a+b\n",
    "print(c)"
   ]
  },
  {
   "cell_type": "code",
   "execution_count": 14,
   "id": "efb31a59",
   "metadata": {},
   "outputs": [],
   "source": [
    "#덧셈 = +\n",
    "#뺄셈 = -\n",
    "#곱셈 = *\n",
    "#나눗셈 = /\n"
   ]
  },
  {
   "cell_type": "code",
   "execution_count": 19,
   "id": "6a93bbae",
   "metadata": {},
   "outputs": [
    {
     "name": "stdout",
     "output_type": "stream",
     "text": [
      "-1\n"
     ]
    }
   ],
   "source": [
    "#뺼셈\n",
    "a=1\n",
    "b=2\n",
    "c=a-b\n",
    "print(c)"
   ]
  },
  {
   "cell_type": "code",
   "execution_count": 20,
   "id": "993c6e68",
   "metadata": {
    "scrolled": true
   },
   "outputs": [
    {
     "name": "stdout",
     "output_type": "stream",
     "text": [
      "2\n"
     ]
    }
   ],
   "source": [
    "#곱셈\n",
    "a=1\n",
    "b=2\n",
    "c=a*b\n",
    "print(c)"
   ]
  },
  {
   "cell_type": "code",
   "execution_count": 21,
   "id": "14cfcb50",
   "metadata": {},
   "outputs": [
    {
     "name": "stdout",
     "output_type": "stream",
     "text": [
      "2.0\n"
     ]
    }
   ],
   "source": [
    "#나눗셈\n",
    "a = 1\n",
    "b = 2\n",
    "c = b/a\n",
    "print(c)"
   ]
  },
  {
   "cell_type": "code",
   "execution_count": 22,
   "id": "0f34748d",
   "metadata": {},
   "outputs": [
    {
     "name": "stdout",
     "output_type": "stream",
     "text": [
      "1.6666666666666667\n"
     ]
    }
   ],
   "source": [
    "# a = 2 ,b = 3 일 때, 두 수를 더하고 b로 나누세요.\n",
    "a=2\n",
    "b=3\n",
    "c=a+b\n",
    "d=c/b\n",
    "print(d)"
   ]
  },
  {
   "cell_type": "code",
   "execution_count": 24,
   "id": "302bee43",
   "metadata": {},
   "outputs": [
    {
     "name": "stdout",
     "output_type": "stream",
     "text": [
      "안녕하세요\n"
     ]
    }
   ],
   "source": [
    "a = 2\n",
    "if a >= 2:\n",
    "    print(\"안녕하세요\")"
   ]
  },
  {
   "cell_type": "code",
   "execution_count": 29,
   "id": "5f7dea7b",
   "metadata": {},
   "outputs": [
    {
     "name": "stdout",
     "output_type": "stream",
     "text": [
      "안녕하세요\n"
     ]
    }
   ],
   "source": [
    "# a = 2, b = 3 일 때, 두 수가 같지 않으면 안녕하세요를 출력하세요.\n",
    "a=2\n",
    "b=3\n",
    "if a != b:\n",
    "    print(\"안녕하세요\")"
   ]
  },
  {
   "cell_type": "code",
   "execution_count": 32,
   "id": "3e33bc52",
   "metadata": {},
   "outputs": [
    {
     "name": "stdout",
     "output_type": "stream",
     "text": [
      "1\n",
      "2\n",
      "1\n"
     ]
    }
   ],
   "source": [
    "a = input()\n",
    "b = input()\n",
    "print(a)"
   ]
  },
  {
   "cell_type": "code",
   "execution_count": 40,
   "id": "5ece0de0",
   "metadata": {},
   "outputs": [
    {
     "name": "stdout",
     "output_type": "stream",
     "text": [
      "1\n",
      "2\n",
      "3\n"
     ]
    }
   ],
   "source": [
    "a=input()\n",
    "b=input()\n",
    "c=int(a)+int(b)\n",
    "print(c)\n"
   ]
  },
  {
   "cell_type": "code",
   "execution_count": 37,
   "id": "6771a44f",
   "metadata": {},
   "outputs": [
    {
     "name": "stdout",
     "output_type": "stream",
     "text": [
      "3\n"
     ]
    }
   ],
   "source": [
    "a = \"1\"\n",
    "b = \"2\"\n",
    "c = int(a)+int(b)\n",
    "print(c)"
   ]
  },
  {
   "cell_type": "code",
   "execution_count": 41,
   "id": "e88c86fa",
   "metadata": {},
   "outputs": [
    {
     "name": "stdout",
     "output_type": "stream",
     "text": [
      "5\n"
     ]
    }
   ],
   "source": [
    "a = 3\n",
    "b = 2\n",
    "c = a+b\n",
    "print(c)"
   ]
  },
  {
   "cell_type": "code",
   "execution_count": 45,
   "id": "e7e2e86d",
   "metadata": {},
   "outputs": [
    {
     "name": "stdout",
     "output_type": "stream",
     "text": [
      "1\n",
      "1이다\n",
      "2보다 작다\n"
     ]
    }
   ],
   "source": [
    "# a 값을 입력 받는다. 만약 그 값이 2 이상일 때 a 값을 출력한다.\n",
    "a=input()\n",
    "if int(a)>=2:\n",
    "    print(a)\n",
    "if int(a) == 1:\n",
    "    print(\"1이다\")\n",
    "if int(a)  == 0:\n",
    "    print(\"0이다\")\n",
    "else:\n",
    "    print(\"2보다 작다\")"
   ]
  },
  {
   "cell_type": "code",
   "execution_count": 51,
   "id": "e70b9077",
   "metadata": {},
   "outputs": [
    {
     "name": "stdout",
     "output_type": "stream",
     "text": [
      "1입니다\n",
      "2가 아닙니다\n"
     ]
    }
   ],
   "source": [
    "a = 1\n",
    "if a==1:\n",
    "    print(\"1입니다\")\n",
    "    \n",
    "if a==2:\n",
    "    print(\"2입니다\")\n",
    "    \n",
    "else:\n",
    "    print(\"2가 아닙니다\")"
   ]
  },
  {
   "cell_type": "code",
   "execution_count": 53,
   "id": "11651445",
   "metadata": {},
   "outputs": [
    {
     "name": "stdout",
     "output_type": "stream",
     "text": [
      "B\n"
     ]
    }
   ],
   "source": [
    "# a = 5일 때, a가 1이상 5이하이면 \"A\", 5보다 크면 \"B\"를 출력하도록 하세요.\n",
    "a=6\n",
    "if a>=1 and a<=5:\n",
    "    print(\"A\")\n",
    "if a>5:\n",
    "    print(\"B\")"
   ]
  },
  {
   "cell_type": "code",
   "execution_count": 54,
   "id": "cbc11ee1",
   "metadata": {},
   "outputs": [
    {
     "name": "stdout",
     "output_type": "stream",
     "text": [
      "C\n"
     ]
    }
   ],
   "source": [
    "a = 79\n",
    "if a>90 and a<=100:\n",
    "    print(\"A\")\n",
    "if a>80 and a<=90:\n",
    "    print(\"B\")\n",
    "if a>70 and a<=80:\n",
    "    print(\"C\")\n",
    "if a<=70:\n",
    "    print(\"D\")"
   ]
  },
  {
   "cell_type": "code",
   "execution_count": null,
   "id": "3e0e52fe",
   "metadata": {},
   "outputs": [],
   "source": []
  }
 ],
 "metadata": {
  "kernelspec": {
   "display_name": "Python 3 (ipykernel)",
   "language": "python",
   "name": "python3"
  },
  "language_info": {
   "codemirror_mode": {
    "name": "ipython",
    "version": 3
   },
   "file_extension": ".py",
   "mimetype": "text/x-python",
   "name": "python",
   "nbconvert_exporter": "python",
   "pygments_lexer": "ipython3",
   "version": "3.9.7"
  }
 },
 "nbformat": 4,
 "nbformat_minor": 5
}
