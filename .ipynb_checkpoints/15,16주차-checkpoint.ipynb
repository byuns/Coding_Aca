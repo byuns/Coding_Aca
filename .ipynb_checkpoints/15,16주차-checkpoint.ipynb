{
 "cells": [
  {
   "cell_type": "code",
   "execution_count": 1,
   "id": "c3d38ad6",
   "metadata": {},
   "outputs": [
    {
     "name": "stdout",
     "output_type": "stream",
     "text": [
      "pygame 2.1.0 (SDL 2.0.16, Python 3.9.7)\n",
      "Hello from the pygame community. https://www.pygame.org/contribute.html\n"
     ]
    }
   ],
   "source": [
    "import pygame\n",
    "import sys\n",
    "\n",
    "SCREEN_WIDTH = 640\n",
    "SCREEN_HEIGHT = 480\n",
    "\n",
    "white = (255, 255, 255)\n",
    "black = (0, 0, 0)\n",
    "\n",
    "pygame.init()\n",
    "pygame.display.set_caption(\"Simple PyGame Example\")\n",
    "screen = pygame.display.set_mode((SCREEN_WIDTH, SCREEN_HEIGHT))\n",
    "\n",
    "pos_x = 200\n",
    "pos_y = 200\n",
    "\n",
    "clock = pygame.time.Clock()\n",
    "\n",
    "while True:\n",
    "    clock.tick(60)\n",
    "    for event in pygame.event.get():\n",
    "        if event.type == pygame.QUIT:\n",
    "            sys.exit()\n",
    "\n",
    "    key_event = pygame.key.get_pressed()\n",
    "    if key_event[pygame.K_LEFT]:\n",
    "        pos_x -= 1\n",
    "\n",
    "    if key_event[pygame.K_RIGHT]:\n",
    "        pos_x += 1\n",
    "\n",
    "    if key_event[pygame.K_UP]:\n",
    "        pos_y -= 1\n",
    "\n",
    "    if key_event[pygame.K_DOWN]:\n",
    "        pos_y += 1\n",
    "\n",
    "    screen.fill(black)\n",
    "    pygame.draw.circle(screen, white, (pos_x, pos_y), 20)\n",
    "    pygame.display.update()\n",
    "\n"
   ]
  },
  {
   "cell_type": "code",
   "execution_count": 1,
   "id": "9c5958ed",
   "metadata": {},
   "outputs": [
    {
     "name": "stdout",
     "output_type": "stream",
     "text": [
      "pygame 2.1.0 (SDL 2.0.16, Python 3.9.7)\n",
      "Hello from the pygame community. https://www.pygame.org/contribute.html\n"
     ]
    }
   ],
   "source": [
    "import pygame\n",
    "size  = [400,300]\n",
    "screen= pygame.display.set_mode(size)\n",
    "pygame.display.set_caption(\"Game Title\")\n",
    "done= False\n",
    "clock= pygame.time.Clock()\n"
   ]
  },
  {
   "cell_type": "code",
   "execution_count": 1,
   "id": "b0e4f171",
   "metadata": {},
   "outputs": [
    {
     "name": "stdout",
     "output_type": "stream",
     "text": [
      "pygame 2.1.0 (SDL 2.0.16, Python 3.9.7)\n",
      "Hello from the pygame community. https://www.pygame.org/contribute.html\n"
     ]
    }
   ],
   "source": [
    "import pygame #파이 게임 모듈 임포트\n",
    "import sys\n",
    "pygame.init() #파이 게임 초기화\n",
    "screen = pygame.display.set_mode((300, 300)) #화면 크기 설정\n",
    "clock = pygame.time.Clock() \n",
    "# pygame.display.set_caption(\"Simple PyGame Example\")\n",
    "\n",
    "#변수\n",
    "x = 0\n",
    "y = 0\n",
    "a = 1\n",
    "while a: #게임 루프\n",
    "#     screen.fill((0, 0, 0)) #단색으로 채워 화면 지우기\n",
    "\n",
    "    #변수 업데이트\n",
    "\n",
    "#     event = pygame.event.poll() #이벤트 처리\n",
    "    for event in pygame.event.get():\n",
    "        if event.type == pygame.QUIT:\n",
    "            a = 0\n",
    "            break\n",
    "        if event.type == pygame.MOUSEBUTTONDOWN and event.button == 1.:\n",
    "            print(\"마우스 왼쪽 클릭\")\n",
    "            print(event.button)\n",
    "            print(pygame.mouse.get_pos())\n",
    "      \n",
    "        if event.type == pygame.MOUSEBUTTONUP:\n",
    "            print(\"마우스 누르고 떼다.\")\n",
    "            print(event.button)\n",
    "\n",
    "        if event.type == pygame.KEYDOWN:\n",
    "            print(\"키 다운 누름\")\n",
    "            if event.key == pygame.K_SPACE:\n",
    "                print(\"스페이스\")\n",
    "            elif event.key == pygame.K_LEFT:\n",
    "                x -= 1\n",
    "            elif event.key == pygame.K_RIGHT:\n",
    "                x += 1\n",
    "            elif event.key == pygame.K_UP:\n",
    "                y += 1\n",
    "            elif event.key == pygame.K_DOWN:\n",
    "                y -= 1\n",
    "            print('(',x,',',y,')')\n",
    "        \n",
    "\n",
    "    #화면 그리기\n",
    "\n",
    "#     pygame.display.update() #모든 화면 그리기 업데이트\n",
    "#     clock.tick(30) #30 FPS (초당 프레임 수) 를 위한 딜레이 추가, 딜레이 시간이 아닌 목표로 하는 FPS 값\n",
    "\n",
    "pygame.quit()    "
   ]
  },
  {
   "cell_type": "code",
   "execution_count": 1,
   "id": "ed162ab1",
   "metadata": {},
   "outputs": [],
   "source": [
    "#pygame.event.poll() = 단일처리\n",
    "#pygame.event.get() = 다중처리\n",
    "# 가로,세로, 창 이름 입력 받아서 하나의 창 출력(가로/세로 길이 랜덤?)\n",
    "# 키보드에서 0~9 까지 하나의 숫자 입력 시 해당 숫자 출력\n",
    "# 방향키 입력 값마다 좌표 출력(시작은 (0,0))\n"
   ]
  },
  {
   "cell_type": "code",
   "execution_count": 11,
   "id": "ebfec822",
   "metadata": {},
   "outputs": [],
   "source": [
    "import pygame\n",
    "import random\n",
    "import time\n",
    "\n",
    "pygame.init()\n",
    "\n",
    "screen = pygame.display.set_mode((1000,600))\n",
    "pygame.display.set_caption(\"Gravity test\")\n",
    "\n",
    "cha = pygame.image.load('어몽어스.png')\n",
    "cha = pygame.transform.scale(cha,(100,100))\n",
    "\n",
    "back = pygame.image.load('background.jpg')\n",
    "back = pygame.transform.scale(back,(1000,600))\n",
    "\n",
    "x = 0\n",
    "y = 0\n",
    "while 1:\n",
    "    screen.blit(back,(0,0))\n",
    "    y = y+0.5\n",
    "    if y > 600:\n",
    "        y = 0\n",
    "        x = random.randint(1,1000)\n",
    "    screen.blit(cha,(x,y))\n",
    "    pygame.display.flip() \n",
    "    \n",
    "    event = pygame.event.poll()\n",
    "    if event.type == pygame.QUIT:\n",
    "        break\n",
    "    \n",
    "pygame.quit()"
   ]
  },
  {
   "cell_type": "code",
   "execution_count": 28,
   "id": "47029cf7",
   "metadata": {},
   "outputs": [
    {
     "data": {
      "text/plain": [
       "[6]"
      ]
     },
     "execution_count": 28,
     "metadata": {},
     "output_type": "execute_result"
    }
   ],
   "source": [
    "array = [1,5,2,6,3,7,4]\n",
    "commands = [[2,5,3],[4,4,1],[1,7,3]]\n",
    "\n",
    "sorted(array[commands[1][0]-1:commands[1][1]])\n"
   ]
  },
  {
   "cell_type": "code",
   "execution_count": 16,
   "id": "54d65116",
   "metadata": {},
   "outputs": [
    {
     "name": "stdout",
     "output_type": "stream",
     "text": [
      "6\n",
      "7\n",
      "8\n",
      "9\n"
     ]
    },
    {
     "data": {
      "text/plain": [
       "2"
      ]
     },
     "execution_count": 16,
     "metadata": {},
     "output_type": "execute_result"
    }
   ],
   "source": [
    "answer = 0\n",
    "nums = [1,2,3,4]\n",
    "sum = 0\n",
    "for i in range(len(nums)):\n",
    "    b = 0\n",
    "    for j in range(i+1,len(nums)):\n",
    "        for k in range(j+1,len(nums)):\n",
    "            sum = nums[i] + nums[j] + nums[k]\n",
    "            for a in range(2,sum):\n",
    "                if sum%a != 0:\n",
    "                    print(sum)\n",
    "                    b = 1\n",
    "                    break\n",
    "    if b==1:\n",
    "        answer += 1\n",
    "answer"
   ]
  },
  {
   "cell_type": "code",
   "execution_count": 7,
   "id": "249f594a",
   "metadata": {},
   "outputs": [],
   "source": [
    "#화면 띄우기\n",
    "import pygame\n",
    "\n",
    "pygame.init()\n",
    "\n",
    "screen = pygame.display.set_mode((1000,600))\n",
    "pygame.display.set_caption(\"Gravity test\")\n",
    "\n",
    "while 1:\n",
    "\n",
    "    event = pygame.event.poll()\n",
    "    if event.type == pygame.QUIT:\n",
    "        break\n",
    "    \n",
    "pygame.quit()"
   ]
  },
  {
   "cell_type": "code",
   "execution_count": 8,
   "id": "0498e7f6",
   "metadata": {},
   "outputs": [],
   "source": [
    "#이미지 띄우고 위치 설정\n",
    "import pygame\n",
    "\n",
    "pygame.init()\n",
    "\n",
    "screen = pygame.display.set_mode((1000,600))\n",
    "pygame.display.set_caption(\"Gravity test\")\n",
    "\n",
    "cha = pygame.image.load('어몽어스.png')\n",
    "cha = pygame.transform.scale(cha,(100,100))\n",
    "\n",
    "while 1:\n",
    "    \n",
    "    screen.blit(cha,(0,0)) # cha 이미지를 해당 좌표에 위치시킴\n",
    "    pygame.display.flip() #이미지 파일 보이게\n",
    "    \n",
    "    event = pygame.event.poll()\n",
    "    if event.type == pygame.QUIT:\n",
    "        break\n",
    "    \n",
    "pygame.quit()"
   ]
  },
  {
   "cell_type": "code",
   "execution_count": 9,
   "id": "6656bf3d",
   "metadata": {},
   "outputs": [],
   "source": [
    "#뒷배경 이미지 추가\n",
    "import pygame\n",
    "\n",
    "pygame.init()\n",
    "\n",
    "screen = pygame.display.set_mode((1000,600))\n",
    "pygame.display.set_caption(\"Gravity test\")\n",
    "\n",
    "cha = pygame.image.load('어몽어스.png')\n",
    "cha = pygame.transform.scale(cha,(100,100))\n",
    "\n",
    "back = pygame.image.load('background.jpg')\n",
    "back = pygame.transform.scale(back,(1000,600))\n",
    "\n",
    "while 1:\n",
    "    screen.blit(back,(0,0))\n",
    "    screen.blit(cha,(0,0)) # cha 이미지를 해당 좌표에 위치시킴\n",
    "    pygame.display.flip() #이미지 파일 보이게\n",
    "    \n",
    "    event = pygame.event.poll()\n",
    "    if event.type == pygame.QUIT:\n",
    "        break\n",
    "    \n",
    "pygame.quit()"
   ]
  },
  {
   "cell_type": "code",
   "execution_count": null,
   "id": "8759c999",
   "metadata": {},
   "outputs": [],
   "source": [
    "import pygame\n",
    "\n",
    "pygame.init()\n",
    "\n",
    "screen = pygame.display.set_mode((1000,600))\n",
    "pygame.display.set_caption(\"Gravity test\")\n",
    "\n",
    "cha = pygame.image.load('어몽어스.png')\n",
    "cha = pygame.transform.scale(cha,(100,100))\n",
    "\n",
    "back = pygame.image.load('background.jpg')\n",
    "back = pygame.transform.scale(back,(1000,600))\n",
    "x = 0\n",
    "y = 0\n",
    "count = 3\n",
    "speed = 0.3\n",
    "while 1:\n",
    "    \n",
    "    event = pygame.event.poll()\n",
    "    \n",
    "    screen.blit(back,(0,0))\n",
    "    while 1:\n",
    "        screen.blit(back,(0,0))\n",
    "        if x <= 900:\n",
    "            x += speed\n",
    "        if x >= 900:\n",
    "            y += speed\n",
    "        if y >= 500:\n",
    "            y -= speed\n",
    "            break\n",
    "        \n",
    "        screen.blit(cha,(x,y)) # cha 이미지를 해당 좌표에 위치시킴\n",
    "        pygame.display.flip() #이미지 파일 보이게\n",
    "\n",
    "    while 1:\n",
    "        screen.blit(back,(0,0))\n",
    "        if x >= 0:\n",
    "            x -= speed\n",
    "        if x <= 0:\n",
    "            y -= speed\n",
    "        if x <= 0 and y <= 0:\n",
    "            x = 0\n",
    "            y = 0\n",
    "            break\n",
    "        \n",
    "        screen.blit(cha,(x,y)) # cha 이미지를 해당 좌표에 위치시킴\n",
    "        pygame.display.flip() #이미지 파일 보이게\n",
    "    \n",
    "    screen.blit(cha,(x,y)) # cha 이미지를 해당 좌표에 위치시킴\n",
    "    pygame.display.flip() #이미지 파일 보이게\n",
    "    if event.type == pygame.QUIT:\n",
    "        break\n",
    "    \n",
    "pygame.quit()"
   ]
  },
  {
   "cell_type": "code",
   "execution_count": null,
   "id": "19ad5c8e",
   "metadata": {},
   "outputs": [],
   "source": []
  }
 ],
 "metadata": {
  "kernelspec": {
   "display_name": "Python 3 (ipykernel)",
   "language": "python",
   "name": "python3"
  },
  "language_info": {
   "codemirror_mode": {
    "name": "ipython",
    "version": 3
   },
   "file_extension": ".py",
   "mimetype": "text/x-python",
   "name": "python",
   "nbconvert_exporter": "python",
   "pygments_lexer": "ipython3",
   "version": "3.9.7"
  }
 },
 "nbformat": 4,
 "nbformat_minor": 5
}
