{
 "cells": [
  {
   "cell_type": "code",
   "execution_count": 6,
   "id": "23e5f488",
   "metadata": {},
   "outputs": [],
   "source": [
    "import pygame\n",
    "\n",
    "pygame.init()\n",
    "\n",
    "size = [800,600]\n",
    "screen = pygame.display.set_mode(size)\n",
    "pygame.display.set_caption(\"도형그리기\")\n",
    "\n",
    "COLOR = (100,25,100)\n",
    "\n",
    "while True:\n",
    "    pygame.draw.rect(screen, COLOR,[400,300,100,200],2)\n",
    "    #(화면선언 변수, 색, [좌표x, 좌표y, 가로, 세로], 선 굵기)\n",
    "    pygame.draw.circle(screen, COLOR, [100,200],45,2)\n",
    "    #(화면선언 변수, 색, [좌표x, 좌표y], 반지름, 선 굵기)\n",
    "    pygame.draw.line(screen,COLOR,(0,0),(100,100),3)\n",
    "    #(화면선언 변수, 색, 시작좌표, 끝좌표, 선 굵기)\n",
    "    pygame.display.update()\n",
    "    \n",
    "    event = pygame.event.poll()\n",
    "    if event.type == pygame.QUIT:\n",
    "        break\n",
    "    \n",
    "pygame.quit()"
   ]
  },
  {
   "cell_type": "code",
   "execution_count": 5,
   "id": "2c2bca48",
   "metadata": {},
   "outputs": [
    {
     "name": "stdout",
     "output_type": "stream",
     "text": [
      "['8X', 13, 42, '7X', 22, 34]\n"
     ]
    }
   ],
   "source": [
    "a = [80,13,42,70,22,34]\n",
    "\n",
    "for i in range(len(a)):\n",
    "    if a[i]%10 == 0:\n",
    "        a[i] = str(int(a[i]/10)) + \"X\"\n",
    "print(a)\n",
    "# st = \"string\"\n",
    "# st.replace('s','o')"
   ]
  },
  {
   "cell_type": "code",
   "execution_count": 9,
   "id": "0a14dce0",
   "metadata": {},
   "outputs": [
    {
     "name": "stdout",
     "output_type": "stream",
     "text": [
      "[1, 2, 3]\n",
      "[1, 2, 3]\n",
      "[1, 2, 3]\n",
      "[1, 2, 3]\n",
      "[1, 2, 3]\n",
      "[1, 2, 3]\n",
      "[1, 2, 3]\n",
      "[1, 2, 3]\n",
      "[1, 2, 3]\n"
     ]
    }
   ],
   "source": [
    "a = [1,2,3]\n",
    "a = str(a)\n",
    "for i in range(len(a)):\n",
    "    print(a)"
   ]
  },
  {
   "cell_type": "code",
   "execution_count": 32,
   "id": "442dfa48",
   "metadata": {},
   "outputs": [
    {
     "data": {
      "text/plain": [
       "'80887'"
      ]
     },
     "execution_count": 32,
     "metadata": {},
     "output_type": "execute_result"
    }
   ],
   "source": [
    "a = \"01051880887\"\n",
    "a[-5:]"
   ]
  },
  {
   "cell_type": "code",
   "execution_count": 54,
   "id": "709822c5",
   "metadata": {},
   "outputs": [
    {
     "data": {
      "text/plain": [
       "[0, 0, 0, 1]"
      ]
     },
     "execution_count": 54,
     "metadata": {},
     "output_type": "execute_result"
    }
   ],
   "source": [
    "a = 1000\n",
    "answer =list(map(int,list(str(a))))\n",
    "answer.reverse()\n",
    "answer"
   ]
  },
  {
   "cell_type": "code",
   "execution_count": 5,
   "id": "e4d28242",
   "metadata": {},
   "outputs": [],
   "source": [
    "import os\n",
    "import time\n",
    "import pygame\n",
    "import random\n",
    "from pygame.locals import *\n",
    "import time\n",
    "\n",
    "pygame.init()\n",
    "\n",
    "screen = pygame.display.set_mode((1000,700))\n",
    "\n",
    "pygame.display.set_caption(\"Moving\")\n",
    "\n",
    "clock = pygame.time.Clock()\n",
    "background = pygame.image.load(os.path.join(\"선.png\"))\n",
    "img_scale = pygame.transform.scale(background,(100,100))\n",
    "\n",
    "ship = pygame.image.load(os.path.join(\"어몽어스.png\"))\n",
    "ship = pygame.transform.scale(ship,(100,100))\n",
    "\n",
    "en = pygame.image.load(\"search.pstatic-removebg-preview (9).png\")\n",
    "en = pygame.transform.scale(en,(100,100))\n",
    "\n",
    "x = 900\n",
    "y = 600\n",
    "a = 1\n",
    "\n",
    "COLOR = (100,25,100)\n",
    "\n",
    "enx = 0\n",
    "eny = 0\n",
    "ens = 0.5\n",
    "count = 0\n",
    "\n",
    "speed = 0.5\n",
    "DOWN = False\n",
    "UP = False\n",
    "LEFT = False\n",
    "RIGHT = False\n",
    "\n",
    "\n",
    "while a:\n",
    "    for event in pygame.event.get():\n",
    "        if event.type == KEYDOWN:\n",
    "            if event.key == K_LEFT or event.key == ord('a'):\n",
    "                LEFT = True\n",
    "                RIGHT = False\n",
    "                \n",
    "            if event.key == K_RIGHT or event.key == ord('d'):\n",
    "                RIGHT = True\n",
    "                LEFT = False\n",
    "                \n",
    "            if event.key == K_UP or event.key == ord('w'):\n",
    "                UP = True\n",
    "                DOWN = False\n",
    "               \n",
    "            if event.key == K_DOWN or event.key == ord('s'):\n",
    "                DOWN = True\n",
    "                UP = False\n",
    "        if event.type == KEYUP:\n",
    "            if event.key == K_LEFT or event.key == ord('a'):\n",
    "                LEFT = False\n",
    "            if event.key == K_RIGHT or event.key == ord('d'):\n",
    "                RIGHT = False\n",
    "            if event.key == K_UP or event.key == ord('w'):\n",
    "                UP = False\n",
    "            if event.key == K_DOWN or event.key == ord('s'):\n",
    "                DOWN = False\n",
    "        elif event.type == pygame.QUIT:\n",
    "            a = 0\n",
    "            break\n",
    "    pygame.draw.line(screen,COLOR,(0,0),(100,100),3)\n",
    "    if LEFT:\n",
    "        x -= speed\n",
    "    if RIGHT:\n",
    "        x += speed\n",
    "    if UP:\n",
    "        y -= speed\n",
    "    if DOWN:\n",
    "        y += speed\n",
    "    character_rect = ship.get_rect()\n",
    "    character_rect.left = x\n",
    "    character_rect.top = y\n",
    "    \n",
    "    enemy_rect = en.get_rect()\n",
    "    enemy_rect.left = enx\n",
    "    enemy_rect.top = eny\n",
    "    \n",
    "    if character_rect.colliderect(enemy_rect):\n",
    "        ens += 0.1\n",
    "        enx = 0 \n",
    "        eny = random.randint(1,650)\n",
    "        count += 1\n",
    "    \n",
    "    enx += ens\n",
    "    if enx > 1000:\n",
    "        enx = 0\n",
    "        eny = random.randint(1,650)\n",
    "        \n",
    "    if count == 10:\n",
    "        break\n",
    "    screen.blit(img_scale,(0,0))\n",
    "    screen.blit(ship,(x,y)) \n",
    "    screen.blit(en,(enx,eny))\n",
    "    pygame.display.update()\n",
    "pygame.quit()\n",
    "    \n"
   ]
  },
  {
   "cell_type": "code",
   "execution_count": null,
   "id": "6a911105",
   "metadata": {},
   "outputs": [],
   "source": []
  }
 ],
 "metadata": {
  "kernelspec": {
   "display_name": "Python 3 (ipykernel)",
   "language": "python",
   "name": "python3"
  },
  "language_info": {
   "codemirror_mode": {
    "name": "ipython",
    "version": 3
   },
   "file_extension": ".py",
   "mimetype": "text/x-python",
   "name": "python",
   "nbconvert_exporter": "python",
   "pygments_lexer": "ipython3",
   "version": "3.9.7"
  }
 },
 "nbformat": 4,
 "nbformat_minor": 5
}
