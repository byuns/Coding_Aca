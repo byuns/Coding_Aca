{
 "cells": [
  {
   "cell_type": "code",
   "execution_count": 7,
   "id": "c9722763",
   "metadata": {},
   "outputs": [],
   "source": [
    "import time\n",
    "import pygame\n",
    "import random\n",
    "\n",
    "pygame.init()\n",
    "screen = pygame.display.set_mode((1000,700))\n",
    "myFont = pygame.font.SysFont(\"arial\",100,True,False)\n",
    "BLACK = (0,0,0)\n",
    "\n",
    "while 1:\n",
    "    screen.fill((255,255,255))\n",
    "    text_Title = myFont.render(\"hihi\",False,BLACK)\n",
    "    screen.blit(text_Title,(0,0))\n",
    "    pygame.display.update()\n",
    "    \n",
    "    event = pygame.event.poll()\n",
    "    if event.type == pygame.QUIT:\n",
    "        break\n",
    "pygame.quit()"
   ]
  },
  {
   "cell_type": "code",
   "execution_count": 3,
   "id": "2a466c5b",
   "metadata": {},
   "outputs": [],
   "source": [
    "import time\n",
    "import pygame\n",
    "import random\n",
    "\n",
    "pygame.init()\n",
    "screen = pygame.display.set_mode((1000,700))\n",
    "myFont = pygame.font.SysFont(\"arial\",100,True,False)\n",
    "BLACK = (0,0,0)\n",
    "t = time.time()\n",
    "\n",
    "while 1:\n",
    "    t1 = time.time()\n",
    "    tt = t1 - t\n",
    "    tt = round(tt,2)\n",
    "    if tt >= 5:\n",
    "        break\n",
    "    \n",
    "    \n",
    "    screen.fill((255,255,255))\n",
    "    text_Title = myFont.render(str(tt),True,BLACK)\n",
    "    screen.blit(text_Title,(0,0))\n",
    "    pygame.display.update()\n",
    "    \n",
    "    event = pygame.event.poll()\n",
    "    if event.type == pygame.QUIT:\n",
    "        break\n",
    "pygame.quit()"
   ]
  },
  {
   "cell_type": "code",
   "execution_count": 9,
   "id": "3fe5e2c5",
   "metadata": {},
   "outputs": [],
   "source": [
    "import pygame\n",
    "\n",
    "pygame.init()\n",
    "\n",
    "BLACK = (0,0,0)\n",
    "WHITE = (255,255,255)\n",
    "BLUE = (0,0,255)\n",
    "GREEN = (0,255,0)\n",
    "RED = (255,0,0)\n",
    "\n",
    "size = [400,300]\n",
    "screen = pygame.display.set_mode(size)\n",
    "pygame.display.set_caption(\"Drawing Rectangle\")\n",
    "clock = pygame.time.Clock()\n",
    "x = 100\n",
    "while 1:\n",
    "    screen.fill(WHITE)\n",
    "    x -= 0.01\n",
    "    if x <= 0:\n",
    "        break\n",
    "    pygame.draw.rect(screen,BLACK,[175,100,x,20])\n",
    "    pygame.draw.rect(screen,BLACK,[175,100,100,20],2)\n",
    "    pygame.display.flip()\n",
    "    \n",
    "    event = pygame.event.poll()\n",
    "    if event.type == pygame.QUIT:\n",
    "        break\n",
    "pygame.quit()\n",
    "    "
   ]
  },
  {
   "cell_type": "code",
   "execution_count": null,
   "id": "b487151d",
   "metadata": {},
   "outputs": [],
   "source": []
  }
 ],
 "metadata": {
  "kernelspec": {
   "display_name": "Python 3 (ipykernel)",
   "language": "python",
   "name": "python3"
  },
  "language_info": {
   "codemirror_mode": {
    "name": "ipython",
    "version": 3
   },
   "file_extension": ".py",
   "mimetype": "text/x-python",
   "name": "python",
   "nbconvert_exporter": "python",
   "pygments_lexer": "ipython3",
   "version": "3.9.7"
  }
 },
 "nbformat": 4,
 "nbformat_minor": 5
}
