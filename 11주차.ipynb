{
 "cells": [
  {
   "cell_type": "code",
   "execution_count": 2,
   "id": "fc085185",
   "metadata": {},
   "outputs": [
    {
     "data": {
      "text/plain": [
       "'A'"
      ]
     },
     "execution_count": 2,
     "metadata": {},
     "output_type": "execute_result"
    }
   ],
   "source": [
    "kchr(65)"
   ]
  },
  {
   "cell_type": "code",
   "execution_count": 3,
   "id": "e2b52a2b",
   "metadata": {},
   "outputs": [
    {
     "data": {
      "text/plain": [
       "65"
      ]
     },
     "execution_count": 3,
     "metadata": {},
     "output_type": "execute_result"
    }
   ],
   "source": [
    "ord('A')"
   ]
  },
  {
   "cell_type": "code",
   "execution_count": 6,
   "id": "a8df0d43",
   "metadata": {},
   "outputs": [
    {
     "data": {
      "text/plain": [
       "6.556"
      ]
     },
     "execution_count": 6,
     "metadata": {},
     "output_type": "execute_result"
    }
   ],
   "source": [
    "a = 6.5555\n",
    "round(a,3)"
   ]
  },
  {
   "cell_type": "code",
   "execution_count": 10,
   "id": "bdcaa264",
   "metadata": {},
   "outputs": [
    {
     "name": "stdout",
     "output_type": "stream",
     "text": [
      "0 1\n",
      "1 2\n",
      "2 3\n"
     ]
    }
   ],
   "source": [
    "test = [1,2,3]\n",
    "\n",
    "for i,v in enumerate(test):\n",
    "    print(i,v)"
   ]
  },
  {
   "cell_type": "code",
   "execution_count": 12,
   "id": "4847b9f4",
   "metadata": {},
   "outputs": [
    {
     "data": {
      "text/plain": [
       "['김', '나', '박', '이']"
      ]
     },
     "execution_count": 12,
     "metadata": {},
     "output_type": "execute_result"
    }
   ],
   "source": [
    "name = ['김','박','이','나']\n",
    "sorted(name)"
   ]
  },
  {
   "cell_type": "code",
   "execution_count": 13,
   "id": "76c05198",
   "metadata": {},
   "outputs": [
    {
     "data": {
      "text/plain": [
       "'김'"
      ]
     },
     "execution_count": 13,
     "metadata": {},
     "output_type": "execute_result"
    }
   ],
   "source": [
    "min(name)"
   ]
  },
  {
   "cell_type": "code",
   "execution_count": 17,
   "id": "698c8616",
   "metadata": {},
   "outputs": [
    {
     "data": {
      "text/plain": [
       "[1, 2]"
      ]
     },
     "execution_count": 17,
     "metadata": {},
     "output_type": "execute_result"
    }
   ],
   "source": [
    "test[0:-1]#점수 리스트에서 2~4등과 뒤에서 두 명을 출력"
   ]
  },
  {
   "cell_type": "code",
   "execution_count": 1,
   "id": "abbe40a2",
   "metadata": {},
   "outputs": [
    {
     "data": {
      "text/plain": [
       "122"
      ]
     },
     "execution_count": 1,
     "metadata": {},
     "output_type": "execute_result"
    }
   ],
   "source": [
    "ord('z') #65~90(대), 97~122(소)"
   ]
  },
  {
   "cell_type": "code",
   "execution_count": 9,
   "id": "25b4df7b",
   "metadata": {},
   "outputs": [
    {
     "name": "stdout",
     "output_type": "stream",
     "text": [
      "1\n"
     ]
    }
   ],
   "source": [
    "f = open('test.txt','r')\n",
    "a = f.read()\n",
    "print(int(a))\n",
    "f.close()\n"
   ]
  },
  {
   "cell_type": "code",
   "execution_count": 7,
   "id": "27716aa1",
   "metadata": {},
   "outputs": [
    {
     "data": {
      "text/plain": [
       "[4, 1, 2, 3, 4]"
      ]
     },
     "execution_count": 7,
     "metadata": {},
     "output_type": "execute_result"
    }
   ],
   "source": [
    "import random\n",
    "\n",
    "n = []\n",
    "for i in range(5):\n",
    "    n.append(random.randint(1,5))\n",
    "print(n)\n",
    "\n",
    "for i in range(len(n)):\n",
    "    "
   ]
  },
  {
   "cell_type": "code",
   "execution_count": 2,
   "id": "42a56d34",
   "metadata": {},
   "outputs": [
    {
     "name": "stdout",
     "output_type": "stream",
     "text": [
      "1\n",
      "1\n",
      "2\n",
      "3\n"
     ]
    }
   ],
   "source": [
    "import pygame\n",
    "\n",
    "a = 5\n",
    "x = 1\n",
    "while x:\n",
    "    music_file = str(a)+\".mp3\"   # mp3 or mid file\n",
    "    a=a+1\n",
    "    pygame.mixer.init()\n",
    "    pygame.mixer.music.load(music_file)\n",
    "    pygame.mixer.music.play()\n",
    "   \n",
    "    clock = pygame.time.Clock()\n",
    "\n",
    "    while pygame.mixer.music.get_busy():\n",
    "        t = input()\n",
    "        if t == \"1\":\n",
    "            pass\n",
    "        if t == \"2\":\n",
    "            a=a-2\n",
    "        if t == \"3\":\n",
    "            x = 0\n",
    "        break\n",
    "        clock.tick(30)\n",
    "    pygame.mixer.quit()"
   ]
  },
  {
   "cell_type": "code",
   "execution_count": 1,
   "id": "c1eed1a9",
   "metadata": {},
   "outputs": [
    {
     "name": "stdout",
     "output_type": "stream",
     "text": [
      "pygame 2.1.0 (SDL 2.0.16, Python 3.9.7)\n",
      "Hello from the pygame community. https://www.pygame.org/contribute.html\n"
     ]
    }
   ],
   "source": [
    "import pygame\n",
    "\n",
    "music_file = \"1.mp3\"   # mp3 or mid file\n",
    "pygame.mixer.init()\n",
    "\n",
    "pygame.mixer.music.load(music_file)\n",
    "pygame.mixer.music.play()\n",
    "clock = pygame.time.Clock()\n",
    "\n",
    "while pygame.mixer.music.get_busy():\n",
    "    clock.tick(30)\n",
    "pygame.mixer.quit()"
   ]
  },
  {
   "cell_type": "code",
   "execution_count": null,
   "id": "3cac1d06",
   "metadata": {},
   "outputs": [],
   "source": []
  }
 ],
 "metadata": {
  "kernelspec": {
   "display_name": "Python 3 (ipykernel)",
   "language": "python",
   "name": "python3"
  },
  "language_info": {
   "codemirror_mode": {
    "name": "ipython",
    "version": 3
   },
   "file_extension": ".py",
   "mimetype": "text/x-python",
   "name": "python",
   "nbconvert_exporter": "python",
   "pygments_lexer": "ipython3",
   "version": "3.9.7"
  }
 },
 "nbformat": 4,
 "nbformat_minor": 5
}
