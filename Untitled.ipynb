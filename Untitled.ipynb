{
 "cells": [
  {
   "cell_type": "code",
   "execution_count": 1,
   "metadata": {},
   "outputs": [
    {
     "name": "stdout",
     "output_type": "stream",
     "text": [
      "안녕\n",
      "안녕\n",
      "안녕\n",
      "안녕\n",
      "안녕\n",
      "안녕\n",
      "안녕\n",
      "안녕\n",
      "안녕\n",
      "안녕\n"
     ]
    }
   ],
   "source": [
    "## 안녕 10번 반복하기\n",
    "a = 10\n",
    "while a:\n",
    "    print('안녕')\n",
    "    a -= 1"
   ]
  },
  {
   "cell_type": "code",
   "execution_count": 10,
   "metadata": {
    "collapsed": true
   },
   "outputs": [
    {
     "name": "stdout",
     "output_type": "stream",
     "text": [
      "100\n",
      "1\n",
      "2\n",
      "3\n",
      "4\n",
      "5\n",
      "6\n",
      "7\n",
      "8\n",
      "9\n",
      "10\n",
      "11\n",
      "12\n",
      "13\n",
      "14\n",
      "15\n",
      "16\n",
      "17\n",
      "18\n",
      "19\n",
      "20\n",
      "21\n",
      "22\n",
      "23\n",
      "24\n",
      "25\n",
      "26\n",
      "27\n",
      "28\n",
      "29\n",
      "30\n",
      "31\n",
      "32\n",
      "33\n",
      "34\n",
      "35\n",
      "36\n",
      "37\n",
      "38\n",
      "39\n",
      "40\n",
      "41\n",
      "42\n",
      "43\n",
      "44\n",
      "45\n",
      "46\n",
      "47\n",
      "48\n",
      "49\n",
      "50\n",
      "51\n",
      "52\n",
      "53\n",
      "54\n",
      "55\n",
      "56\n",
      "57\n",
      "58\n",
      "59\n",
      "60\n",
      "61\n",
      "62\n",
      "63\n",
      "64\n",
      "65\n",
      "66\n",
      "67\n",
      "68\n",
      "69\n",
      "70\n",
      "71\n",
      "72\n",
      "73\n",
      "74\n",
      "75\n",
      "76\n",
      "77\n",
      "78\n",
      "79\n",
      "80\n",
      "81\n",
      "82\n",
      "83\n",
      "84\n",
      "85\n",
      "86\n",
      "87\n",
      "88\n",
      "89\n",
      "90\n",
      "91\n",
      "92\n",
      "93\n",
      "94\n",
      "95\n",
      "96\n",
      "97\n",
      "98\n",
      "99\n",
      "100\n"
     ]
    }
   ],
   "source": [
    "## 원하는 숫자 만들기 100을 쓰면 1부터 100까지 숫자 출력\n",
    "\n",
    "a = input()\n",
    "b = 1\n",
    "while a:\n",
    "    print(b)\n",
    "    b+=1\n",
    "    a = int(a) - 1"
   ]
  },
  {
   "cell_type": "code",
   "execution_count": 14,
   "metadata": {},
   "outputs": [
    {
     "name": "stdout",
     "output_type": "stream",
     "text": [
      "10 x 10\n",
      "정답은? 100\n",
      "정답입니다.\n",
      "9 x 4\n",
      "정답은? 42\n",
      "오답입니다.\n",
      "6 x 5\n",
      "정답은? 30\n",
      "정답입니다.\n",
      "9 x 9\n",
      "정답은? 81\n",
      "정답입니다.\n",
      "프로그램을 종료합니다.\n"
     ]
    }
   ],
   "source": [
    "##1번 룰 구구단 5문제 중 3문제 맞추면 프로그램 종료\n",
    "import random\n",
    "i = 5\n",
    "prod = 0\n",
    "count = 0\n",
    "while i:\n",
    "    i-=1\n",
    "    a = random.randint(1,10)\n",
    "    b = random.randint(1,10)\n",
    "    prod = a*b\n",
    "    print(a,'x',b)\n",
    "    ans = int(input(\"정답은? \"))\n",
    "    if ans == prod:\n",
    "        count += 1\n",
    "        print(\"정답입니다.\")\n",
    "    else :\n",
    "        print(\"오답입니다.\")\n",
    "    if count == 3:\n",
    "        print(\"프로그램을 종료합니다.\")\n",
    "        break"
   ]
  },
  {
   "cell_type": "code",
   "execution_count": 16,
   "metadata": {},
   "outputs": [
    {
     "name": "stdout",
     "output_type": "stream",
     "text": [
      "7 x 4\n",
      "정답은? 28\n",
      "정답입니다.\n",
      "4 x 5\n",
      "정답은? 20\n",
      "정답입니다.\n",
      "10 x 2\n",
      "정답은? 30\n",
      "오답입니다.\n",
      "9 x 5\n",
      "정답은? 45\n",
      "정답입니다.\n",
      "4 x 1\n",
      "정답은? 4\n",
      "정답입니다.\n"
     ]
    }
   ],
   "source": [
    "#3문제 연속 맞추기\n",
    "import random\n",
    "i = 5\n",
    "prod = 0\n",
    "count = 0\n",
    "\n",
    "while i:\n",
    "    i-=1\n",
    "    a = random.randint(1,10)\n",
    "    b = random.randint(1,10)\n",
    "    prod = a*b\n",
    "    print(a,'x',b)\n",
    "    ans = int(input(\"정답은? \"))\n",
    "    if prod == ans:\n",
    "        count += 1\n",
    "        print(\"정답입니다.\")\n",
    "    else:\n",
    "        count =0\n",
    "        print(\"오답입니다.\")\n",
    "    if count == 3:\n",
    "        print(\"프로그램을 종료합니다.\")\n",
    "        break"
   ]
  },
  {
   "cell_type": "code",
   "execution_count": 20,
   "metadata": {},
   "outputs": [
    {
     "name": "stdout",
     "output_type": "stream",
     "text": [
      "7 x 2\n",
      "정답은? 14\n",
      "정답입니다.\n",
      "점수 1점 획득\n",
      "12 x 5\n",
      "정답은? 60\n",
      "정답입니다.\n",
      "점수 1점 획득\n",
      "14 x 20\n",
      "정답은? 280\n",
      "정답입니다.\n",
      "점수 2점 획득\n",
      "8 x 12\n",
      "정답은? 90\n",
      "오답입니다.\n",
      "1 x 9\n",
      "정답은? 9\n",
      "정답입니다.\n",
      "점수 1점 획득\n",
      "총 점수는 5점 입니다.\n"
     ]
    }
   ],
   "source": [
    "##1단은 1점 / 십의 자리 곱하기는 2점\n",
    "import random\n",
    "i = 5\n",
    "prod = 0\n",
    "score = 0\n",
    "while i:\n",
    "    i-=1\n",
    "    a = random.randint(1,20)\n",
    "    b = random.randint(1,20)\n",
    "    prod = a*b\n",
    "    print(a,'x',b)\n",
    "    ans = int(input(\"정답은? \"))\n",
    "    if prod == ans:\n",
    "        print(\"정답입니다.\")\n",
    "        if a>=10 and b>=10:\n",
    "            score += 2\n",
    "            print(\"점수 2점 획득\")\n",
    "        else:\n",
    "            score +=1\n",
    "            print(\"점수 1점 획득\")\n",
    "    else:\n",
    "        print(\"오답입니다.\")\n",
    "print(\"총 점수는 \"+str(score)+\"점 입니다.\")"
   ]
  },
  {
   "cell_type": "markdown",
   "metadata": {},
   "source": [
    "### 1. 숫자 만들기\n",
    "\n",
    "ex) 랜덤한 숫자 만들기\n",
    "\n",
    "입력 : 5    #숫자의 자리 수\n",
    "\n",
    "입력 : 3   # 0의 갯 수\n",
    "\n",
    "출력 : 10500\n",
    "\n",
    "조건 1 : 0의 자리는 맨 앞자리에 올 수 없다. (01234, 01235) X\n",
    "\n",
    "조건 2 : 0의 자리는 항상 랜덤이어야 한다.  (15000, 31000, 23000 ) X"
   ]
  },
  {
   "cell_type": "code",
   "execution_count": 23,
   "metadata": {},
   "outputs": [],
   "source": [
    "import random\n",
    "\n",
    "num_len = int(input(\"숫자의 자리 수를 입력하시오.\"))\n",
    "num_zero = int(input(\"0의 갯수를 입력하시오. \"))\n",
    "\n",
    "num = \"\"\n",
    "tmp = 0\n",
    "count = num_zero\n",
    "for i in range(num_len):\n",
    "    if i == 0:\n",
    "        num += random.randint(1,9)\n",
    "    else:\n",
    "        while True:\n",
    "            tmp = random.randint(1,2)\n",
    "            if tmp == 1:\n",
    "                num += '0'\n",
    "                count -= 1\n",
    "            else:\n",
    "                break\n",
    "                "
   ]
  },
  {
   "cell_type": "code",
   "execution_count": 3,
   "metadata": {},
   "outputs": [
    {
     "name": "stdout",
     "output_type": "stream",
     "text": [
      "숫자의 자리 수를 입력하시오.11\n",
      "0의 갯수를 입력하시오. 3\n",
      "35218044900\n"
     ]
    }
   ],
   "source": [
    "import random\n",
    "\n",
    "num_len = int(input(\"숫자의 자리 수를 입력하시오.\"))\n",
    "num_zero = int(input(\"0의 갯수를 입력하시오. \"))\n",
    "\n",
    "num = \"\"\n",
    "num_tmp = 0\n",
    "num_count = 0\n",
    "zero_count = 0\n",
    "\n",
    "while num_len:\n",
    "    if num_count == 0:\n",
    "        num += str(random.randint(1,9))\n",
    "        num_count =1\n",
    "    else:\n",
    "        if num_len > num_zero:\n",
    "            num_tmp = random.randint(0,9)\n",
    "            if num_tmp == 0:\n",
    "                num += str(0)\n",
    "                num_zero -= 1\n",
    "            else:\n",
    "                num += str(random.randint(1,9))\n",
    "        else:\n",
    "            num += str(0)\n",
    "    num_len -= 1\n",
    "            \n",
    "            \n",
    "\n",
    "print(num)\n",
    "            "
   ]
  },
  {
   "cell_type": "markdown",
   "metadata": {},
   "source": [
    "### 2. 숫자 정렬하기\n",
    "\n",
    "a = [] #a라는 리스트에 1 ~ 9 까지 랜덤한 숫자 100개 넣기\n",
    "\n",
    "ex ) a=[1,2,3,2,1,2,1,1,2,3,3,4,5,6,7,7]  #1 : 4개, 2 : 3개, 3: 3개 , 4:1개, 5:1개, 6:1개, 7:2개\n",
    "\n",
    "숫자가 많은 순서대로 출력하기\n",
    "\n",
    " \n",
    "\n",
    "출력 : [1,2,3,6,4,5,6]\n",
    "\n",
    "조건1 : 같은 숫자일 때 는 순서 상관 없음.[1,3,2,6,4,5,6]"
   ]
  },
  {
   "cell_type": "code",
   "execution_count": 20,
   "metadata": {},
   "outputs": [
    {
     "name": "stdout",
     "output_type": "stream",
     "text": [
      "[4, 3, 8, 5, 6, 8, 9, 7, 2, 7, 4, 6, 2, 9, 3, 3, 6, 7, 9, 5, 9, 1, 5, 8, 3, 2, 1, 6, 7, 1, 5, 6, 7, 1, 4, 4, 5, 4, 9, 1, 5, 4, 7, 9, 4, 6, 6, 7, 6, 8, 3, 4, 5, 3, 1, 6, 4, 3, 7, 2, 3, 8, 6, 4, 4, 9, 5, 9, 7, 6, 1, 9, 2, 8, 4, 5, 1, 4, 7, 3, 1, 5, 8, 7, 1, 3, 9, 6, 8, 6, 7, 5, 2, 9, 1, 4, 4, 4, 3, 5]\n",
      "[11, 6, 11, 16, 12, 13, 12, 8, 11]\n",
      "[4, 6, 5, 7, 1, 3, 9, 8, 2]\n"
     ]
    }
   ],
   "source": [
    "import random\n",
    "\n",
    "a = []\n",
    "b = [0,0,0,0,0,0,0,0,0]\n",
    "c = [1,2,3,4,5,6,7,8,9]\n",
    "tmp = 0\n",
    "for i in range(100):\n",
    "    a.append(random.randint(1,9))\n",
    "\n",
    "for i in range(len(a)):\n",
    "    if a[i] == 1:\n",
    "        b[0] += 1\n",
    "    elif a[i] == 2:\n",
    "        b[1] += 1\n",
    "    elif a[i] == 3:\n",
    "        b[2] += 1\n",
    "    elif a[i] == 4:\n",
    "        b[3] += 1\n",
    "    elif a[i] == 5:\n",
    "        b[4] += 1\n",
    "    elif a[i] == 6:\n",
    "        b[5] += 1\n",
    "    elif a[i] == 7:\n",
    "        b[6] += 1\n",
    "    elif a[i] == 8:\n",
    "        b[7] += 1\n",
    "    elif a[i] == 9:\n",
    "        b[8] += 1\n",
    "print(a)\n",
    "print(b)\n",
    "for i in range(len(b)):\n",
    "    for j in range(i+1,len(b)):\n",
    "        if b[i] < b[j]:\n",
    "            tmp = b[i]\n",
    "            b[i] = b[j]\n",
    "            b[j] = tmp\n",
    "            tmp = c[i]\n",
    "            c[i] = c[j]\n",
    "            c[j] = tmp\n",
    "\n",
    "print(c)"
   ]
  },
  {
   "cell_type": "code",
   "execution_count": 66,
   "metadata": {},
   "outputs": [
    {
     "name": "stdout",
     "output_type": "stream",
     "text": [
      "[5, 1, 6, 9, 2, 1, 8, 4, 6, 3, 3, 7, 9, 5, 5, 9, 2, 1, 3, 5, 8, 4, 3, 7, 5, 9, 7, 2, 9, 7, 5, 2, 5, 1, 2, 7, 8, 9, 9, 9, 1, 7, 5, 2, 6, 7, 3, 2, 1, 2, 1, 2, 6, 4, 6, 6, 5, 9, 3, 7, 8, 3, 5, 1, 5, 7, 7, 7, 9, 3, 5, 6, 7, 8, 5, 2, 5, 9, 1, 8, 1, 1, 5, 8, 9, 7, 8, 7, 1, 5, 5, 5, 5, 9, 1, 8, 1, 6, 6, 1]\n",
      "[14, 10, 8, 3, 19, 9, 14, 9, 13]\n",
      "[19, 14, 14, 13, 10, 9, 9, 8, 3]\n"
     ]
    }
   ],
   "source": [
    "import random\n",
    "\n",
    "a = []\n",
    "b = []\n",
    "i = 100\n",
    "while i:\n",
    "    a.append(random.randint(1,9))\n",
    "    i -= 1\n",
    "print(a)\n",
    "\n",
    "i = 9\n",
    "while i:\n",
    "    b.append(0)\n",
    "    i -= 1\n",
    "    \n",
    "i = 1\n",
    "while i:\n",
    "    if a[i-1] == 1:\n",
    "        b[0] += 1\n",
    "    if a[i-1] == 2:\n",
    "        b[1] += 1\n",
    "    if a[i-1] == 3:\n",
    "        b[2] += 1\n",
    "    if a[i-1] == 4:\n",
    "        b[3] += 1\n",
    "    if a[i-1] == 5:\n",
    "        b[4] += 1\n",
    "    if a[i-1] == 6:\n",
    "        b[5] += 1\n",
    "    if a[i-1] == 7:\n",
    "        b[6] += 1\n",
    "    if a[i-1] == 8:\n",
    "        b[7] += 1\n",
    "    if a[i-1] == 9:\n",
    "        b[8] += 1\n",
    "    i+= 1\n",
    "    if i==100:\n",
    "        break\n",
    "print(b)\n",
    "\n",
    "i = 0\n",
    "j = 0\n",
    "tmp = 0\n",
    "c = b\n",
    "\n",
    "while i<len(b):\n",
    "    j = i+1\n",
    "    while j<len(b):\n",
    "        if b[i] < b[j]:\n",
    "            tmp = b[j]\n",
    "            b[j] = b[i]\n",
    "            b[i] = tmp\n",
    "        j+=1\n",
    "    i+=1\n",
    "print(b)"
   ]
  },
  {
   "cell_type": "markdown",
   "metadata": {},
   "source": [
    "### 3. 숫자 만들기\n",
    "\n",
    "1 ~ 100까지 숫자 중 자릿 수가 모두 같은 숫자들 출력하기 \n",
    "\n",
    "ex)\n",
    "\n",
    "입력 : 100\n",
    "\n",
    "출력\n",
    "\n",
    "11, 22, 33, 44, 55, 66, 77, 88, 99\n",
    "\n",
    "입력: 500\n",
    "\n",
    "출력 \n",
    "\n",
    "11,22,33,44,55,66,77,88,99,111,222,333,444"
   ]
  },
  {
   "cell_type": "code",
   "execution_count": 10,
   "metadata": {
    "scrolled": true
   },
   "outputs": [
    {
     "name": "stdout",
     "output_type": "stream",
     "text": [
      "입력500\n",
      "[11, 22, 33, 44, 55, 66, 77, 88, 99, 111, 222, 333, 444]\n"
     ]
    }
   ],
   "source": [
    "a = int(input(\"입력\"))\n",
    "tmp = []\n",
    "start = 1\n",
    "while a:\n",
    "    a -= 1\n",
    "    start += 1\n",
    "    if start > 10 and start < 100:\n",
    "        if str(start)[0] == str(start)[1]:\n",
    "            tmp.append(start)\n",
    "    if start > 100:\n",
    "        if str(start)[0] == str(start)[1] and str(start)[1] == str(start)[2]:\n",
    "            tmp.append(start)\n",
    "print(tmp)"
   ]
  },
  {
   "cell_type": "markdown",
   "metadata": {},
   "source": [
    "### 4. 10 만들기\n",
    "\n",
    "리스트에 1 ~ 10까지 숫자 n개 넣기\n",
    "\n",
    "리스트 안에서 2개의 숫자를 더해서 10을 만들 수 있는 숫자 조합 출력 \n",
    "\n",
    "ex)\n",
    "\n",
    "a = [1,3,5,3,2,1,8,7,6,4,4]\n",
    "\n",
    "출력: 3,7  /   8,2  /  6,4\n",
    "\n",
    "조건 : 출력의 형식은 따로 없음\n",
    "\n",
    "조건2 : 숫자를 중복해서 사용할 수 없음 \n",
    "\n",
    "ex) a = [1,9,1]   출력 : 1,9   / 9,1   X안됨"
   ]
  },
  {
   "cell_type": "code",
   "execution_count": 73,
   "metadata": {},
   "outputs": [
    {
     "name": "stdout",
     "output_type": "stream",
     "text": [
      "[4, 6, 7, 4, 9, 5, 8, 3, 4, 7, 8, 6, 2, 8, 10, 6, 5, 6, 7, 5]\n",
      "4 , 6\n",
      "7 , 3\n",
      "4 , 6\n",
      "5 , 5\n",
      "4 , 6\n",
      "8 , 2\n"
     ]
    }
   ],
   "source": [
    "import random\n",
    "n = random.randint(10,20)\n",
    "a = []\n",
    "\n",
    "while n:\n",
    "    a.append(random.randint(1,10))\n",
    "    n -= 1\n",
    "\n",
    "print(a)\n",
    "\n",
    "\n",
    "i = 0\n",
    "b = a.copy()\n",
    "\n",
    "while i < len(a)-1:\n",
    "    j = i+1\n",
    "    while j < len(a)-1:\n",
    "        if a[i] + a[j] == 10:\n",
    "            print(a[i],\",\",a[j])\n",
    "            del a[i],a[j-1]\n",
    "        j+=1\n",
    "    i+=1\n",
    "\n",
    "    \n"
   ]
  },
  {
   "cell_type": "code",
   "execution_count": null,
   "metadata": {},
   "outputs": [],
   "source": []
  },
  {
   "cell_type": "markdown",
   "metadata": {},
   "source": [
    "### 문자열 / 숫자형\n"
   ]
  },
  {
   "cell_type": "code",
   "execution_count": 7,
   "metadata": {},
   "outputs": [
    {
     "data": {
      "text/plain": [
       "(1, '01')"
      ]
     },
     "execution_count": 7,
     "metadata": {},
     "output_type": "execute_result"
    }
   ],
   "source": [
    "a = 0\n",
    "b = '1'\n",
    "\n",
    "a+int(b), str(a)+b"
   ]
  },
  {
   "cell_type": "code",
   "execution_count": 8,
   "metadata": {},
   "outputs": [
    {
     "data": {
      "text/plain": [
       "(5, -1, 0.6666666666666666, 0, 2)"
      ]
     },
     "execution_count": 8,
     "metadata": {},
     "output_type": "execute_result"
    }
   ],
   "source": [
    "#연산\n",
    "a = 2\n",
    "b = 3\n",
    "\n",
    "a+b, a-b, a/b, a//b, a%b"
   ]
  },
  {
   "cell_type": "code",
   "execution_count": 9,
   "metadata": {},
   "outputs": [
    {
     "data": {
      "text/plain": [
       "8"
      ]
     },
     "execution_count": 9,
     "metadata": {},
     "output_type": "execute_result"
    }
   ],
   "source": [
    "#길이\n",
    "a = 'i am bob'\n",
    "len(a)"
   ]
  },
  {
   "cell_type": "code",
   "execution_count": 10,
   "metadata": {},
   "outputs": [
    {
     "name": "stdout",
     "output_type": "stream",
     "text": [
      "-2\n"
     ]
    }
   ],
   "source": [
    "#조건문\n",
    "a = 0\n",
    "b = 2\n",
    "if a==b:\n",
    "    print(a+b)\n",
    "else :\n",
    "    print(a-b)"
   ]
  },
  {
   "cell_type": "code",
   "execution_count": 12,
   "metadata": {},
   "outputs": [
    {
     "name": "stdout",
     "output_type": "stream",
     "text": [
      "234\n",
      "4\n"
     ]
    }
   ],
   "source": [
    "a = input()\n",
    "print(a[-1])"
   ]
  },
  {
   "cell_type": "code",
   "execution_count": 15,
   "metadata": {},
   "outputs": [
    {
     "name": "stdout",
     "output_type": "stream",
     "text": [
      "abbc\n",
      "0\n",
      "1\n"
     ]
    }
   ],
   "source": [
    "#abc 개수와 자리수\n",
    "\n",
    "a = input()\n",
    "count = 0\n",
    "\n",
    "for i in range(len(a)):\n",
    "    if a[i] == 'a':\n",
    "        count+= 1\n",
    "        print(\"i+1\")\n",
    "print(count)"
   ]
  },
  {
   "cell_type": "code",
   "execution_count": 6,
   "metadata": {},
   "outputs": [
    {
     "name": "stdout",
     "output_type": "stream",
     "text": [
      "100 100 100\n",
      "100.0 A\n"
     ]
    }
   ],
   "source": [
    "score = input()\n",
    "Lan = 0\n",
    "Math = 0\n",
    "En = 0\n",
    "\n",
    "score = score.split(' ')\n",
    "Lan = float(score[0])\n",
    "Math = float(score[1])\n",
    "En = float(score[2])\n",
    "\n",
    "\n",
    "mean = (Lan+Math+En) / 3\n",
    "mean = round(mean,2)\n",
    "if mean >= 90:\n",
    "\tprint(mean,\"A\")\n",
    "elif mean >= 80 and mean < 90:\n",
    "\tprint(mean,\"B\")\n",
    "elif mean >= 70 and mean < 80:\n",
    "\tprint(mean, \"C\")\n",
    "elif mean >= 60 and mean <70:\n",
    "\tprint(mean, \"D\")\n",
    "else:\n",
    "\tprint(mean, \"F\")"
   ]
  },
  {
   "cell_type": "code",
   "execution_count": 4,
   "metadata": {},
   "outputs": [
    {
     "data": {
      "text/plain": [
       "[1, 2, 3, 4, 5, 6]"
      ]
     },
     "execution_count": 4,
     "metadata": {},
     "output_type": "execute_result"
    }
   ],
   "source": [
    "i = list(range(1,7))\n",
    "i"
   ]
  },
  {
   "cell_type": "code",
   "execution_count": null,
   "metadata": {},
   "outputs": [],
   "source": []
  }
 ],
 "metadata": {
  "kernelspec": {
   "display_name": "Python 3",
   "language": "python",
   "name": "python3"
  },
  "language_info": {
   "codemirror_mode": {
    "name": "ipython",
    "version": 3
   },
   "file_extension": ".py",
   "mimetype": "text/x-python",
   "name": "python",
   "nbconvert_exporter": "python",
   "pygments_lexer": "ipython3",
   "version": "3.8.5"
  }
 },
 "nbformat": 4,
 "nbformat_minor": 4
}
