{
 "cells": [
  {
   "cell_type": "markdown",
   "metadata": {},
   "source": [
    "### 369게임"
   ]
  },
  {
   "cell_type": "code",
   "execution_count": 11,
   "metadata": {},
   "outputs": [
    {
     "name": "stdout",
     "output_type": "stream",
     "text": [
      "10\n",
      "3\n"
     ]
    }
   ],
   "source": [
    "num = int(input())\n",
    "a = 1 \n",
    "count = 0\n",
    "while num-1:\n",
    "\tif a < 10:\n",
    "\t\tif a%3 == 0:\n",
    "\t\t\tcount += 1\n",
    "\telif a>=10 and a<100:\n",
    "\t\tten = a // 10\n",
    "\t\tone = a - (ten*10)\n",
    "\t\tif ten % 3 == 0 and ten != 0:\n",
    "\t\t\tif one % 3 == 0 and one != 0:\n",
    "\t\t\t\tcount += 2\n",
    "\t\t\telse:\n",
    "\t\t\t\tcount += 1\n",
    "\t\telse:\n",
    "\t\t\tif one % 3 == 0 and one != 0:\n",
    "\t\t\t\tcount += 1\n",
    "\tnum -= 1\n",
    "\ta += 1\n",
    "print(count)"
   ]
  },
  {
   "cell_type": "code",
   "execution_count": 7,
   "metadata": {},
   "outputs": [
    {
     "data": {
      "text/plain": [
       "['i', 'am', 'Tom']"
      ]
     },
     "execution_count": 7,
     "metadata": {},
     "output_type": "execute_result"
    }
   ],
   "source": [
    "name = \"i am Tom\"\n",
    "tmp = name.split()\n",
    "tmp"
   ]
  },
  {
   "cell_type": "code",
   "execution_count": 8,
   "metadata": {},
   "outputs": [
    {
     "data": {
      "text/plain": [
       "'m'"
      ]
     },
     "execution_count": 8,
     "metadata": {},
     "output_type": "execute_result"
    }
   ],
   "source": [
    "tmp[1][1]"
   ]
  },
  {
   "cell_type": "code",
   "execution_count": null,
   "metadata": {},
   "outputs": [],
   "source": []
  }
 ],
 "metadata": {
  "kernelspec": {
   "display_name": "Python 3",
   "language": "python",
   "name": "python3"
  },
  "language_info": {
   "codemirror_mode": {
    "name": "ipython",
    "version": 3
   },
   "file_extension": ".py",
   "mimetype": "text/x-python",
   "name": "python",
   "nbconvert_exporter": "python",
   "pygments_lexer": "ipython3",
   "version": "3.8.5"
  }
 },
 "nbformat": 4,
 "nbformat_minor": 4
}
